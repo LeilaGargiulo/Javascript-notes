{
 "cells": [
  {
   "cell_type": "markdown",
   "id": "ca7b0ee7-5c43-4b32-9de6-465f0d5c5605",
   "metadata": {},
   "source": [
    "# console.log();"
   ]
  },
  {
   "cell_type": "markdown",
   "id": "cbe11daf-1c4a-42f0-b971-86586de2b891",
   "metadata": {},
   "source": [
    "Prints a new line in the console."
   ]
  },
  {
   "cell_type": "markdown",
   "id": "20aec406-ed29-441d-b2ce-2566ad70db3c",
   "metadata": {},
   "source": [
    "Syntax: console.log(\"text or object\");\n",
    "\n",
    "Example:"
   ]
  },
  {
   "cell_type": "code",
   "execution_count": 2,
   "id": "2e3d0725-448f-4fc3-827e-a7b2f0d0a05a",
   "metadata": {},
   "outputs": [
    {
     "name": "stdout",
     "output_type": "stream",
     "text": [
      "Hello, World!\n"
     ]
    }
   ],
   "source": [
    "console.log(\"Hello, World!\");"
   ]
  },
  {
   "cell_type": "code",
   "execution_count": null,
   "id": "5bb1d03c-dadd-46a3-815c-87f30273d493",
   "metadata": {},
   "outputs": [],
   "source": []
  }
 ],
 "metadata": {
  "kernelspec": {
   "display_name": "JavaScript (Node.js)",
   "language": "javascript",
   "name": "javascript"
  },
  "language_info": {
   "file_extension": ".js",
   "mimetype": "application/javascript",
   "name": "javascript",
   "version": "20.8.1"
  }
 },
 "nbformat": 4,
 "nbformat_minor": 5
}
