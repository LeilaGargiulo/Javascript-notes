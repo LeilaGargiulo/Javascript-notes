{
 "cells": [
  {
   "cell_type": "markdown",
   "id": "dc515ace-43c2-4683-a6c5-cc7ca9684df3",
   "metadata": {},
   "source": [
    "# Functions in Javascript\n",
    "***"
   ]
  },
  {
   "cell_type": "code",
   "execution_count": null,
   "id": "1d9dbd11-d1ca-411b-9061-ff164357f689",
   "metadata": {},
   "outputs": [],
   "source": [
    "Functions: Functions are one of the fundamental building blocks in JavaScript. A function in\n",
    "JavaScript is similar to a procedure—a set of statements that performs a task or calculates a\n",
    "value, but for a procedure to qualify as a function, it should take some input and return an\n",
    "output. Functions are repeatable lines of code that make our programs neater and easier to\n",
    "read and run."
   ]
  },
  {
   "cell_type": "markdown",
   "id": "c4d8dfd3-12da-4940-9eb9-f5f2c6de1396",
   "metadata": {},
   "source": [
    "# Defining Functions\n",
    "***"
   ]
  },
  {
   "cell_type": "code",
   "execution_count": null,
   "id": "0c6a8b88-46ef-460c-a5d9-e95bb6c6acbe",
   "metadata": {},
   "outputs": [],
   "source": [
    "In JavaScript, in order to create a function there is a syntax that we use. There are multiple\n",
    "ways to create functions in Javascript, we will talk about 2 different ways below.\n",
    "    \n",
    "Function Declarations:\n",
    "A function definition (also called a function declaration, or function statement) consists of\n",
    "the function keyword, followed by:\n",
    "1. The name of the function.\n",
    "2. . A list of parameters to the function, enclosed in parentheses and separated commas.\n",
    "3. The savaScript statements that define the function, enclosed in curly braces, { /* ... */ }."
   ]
  },
  {
   "cell_type": "code",
   "execution_count": null,
   "id": "1ece96fa-49b6-4007-9897-0650f8dc5e90",
   "metadata": {},
   "outputs": [],
   "source": [
    "Example:\n",
    "function square(number){\n",
    "return number * number;\n",
    "}\n",
    "In the example above the function called square takes a single parameter, which is the\n",
    "word enclosed in parenthesis. The function then utilizes the return keyword to pass the\n",
    "result of the parameter out of the function.\n",
    "Parameter: A parameter in programming is a named variable used only in a function or\n",
    "method definition. It acts like a variable, a placeholder that recieves and holds the values\n",
    "passed to the function when its called.\n",
    "Return: A return statement in a function is an optional statement that exists the function and \n",
    "returns the value of the program, outside the block of the function. Any code following\n",
    "the return statement is not executed. If a function doesnt have a return statement, or if no\n",
    "return value is specified, the function returns as undefined."
   ]
  },
  {
   "cell_type": "code",
   "execution_count": null,
   "id": "95892c10-03f5-4922-bcb3-49c20b27697d",
   "metadata": {},
   "outputs": [],
   "source": [
    "function sum(a + b) {\n",
    "return a + b;\n",
    "}\n",
    "8"
   ]
  },
  {
   "cell_type": "code",
   "execution_count": null,
   "id": "556cf6ae-14e6-42d6-a800-a5a8261b7add",
   "metadata": {},
   "outputs": [],
   "source": [
    "In the function above we are utilizing 2 parameters and simply adding 2 numbers., A and B.\n",
    "We are then returning the value out of the function. However please note that functions\n",
    "need to have more than a definition which is seen above. We now need to call the function,\n",
    "in order to utilize it.is 8"
   ]
  },
  {
   "cell_type": "markdown",
   "id": "ed326f6b-e8bd-49c9-8609-274bbccefe25",
   "metadata": {},
   "source": [
    "# Calling a Function\n",
    "***"
   ]
  },
  {
   "cell_type": "code",
   "execution_count": null,
   "id": "8095a844-61ad-4c96-9196-55d70be0ed79",
   "metadata": {},
   "outputs": [],
   "source": [
    "Function Call: A function call is when you call or use the function you have created. Note\n",
    "that when you create a function it does not need to be used right away in a procedural\n",
    "order. You can create it and use it whenever you need, as many times as needed. Before\n",
    "calling the function you must define it in the steps above. The syntax for calling a function is\n",
    "below, we are using the function definition from the sum function we created above. Note\n",
    "that we are using something called arguments in a function call."
   ]
  },
  {
   "cell_type": "code",
   "execution_count": null,
   "id": "13cd2017-ffd3-49b3-8bee-18f8eaed8ecb",
   "metadata": {},
   "outputs": [],
   "source": [
    "Argument: An argument is the value we input in the function call that is passed through the\n",
    "function via parameters. In other words the value of arguments are inptu and become the\n",
    "value of parameters in the function definition, much like how you assign a variable a value.\n",
    "The position of arguments matter, the arguments fill in the parameters in the ordere in\n",
    "which they are written."
   ]
  },
  {
   "cell_type": "code",
   "execution_count": null,
   "id": "36fe6f47-069a-4596-86c0-6d47c2e05dfa",
   "metadata": {},
   "outputs": [],
   "source": [
    "Syntax:\n",
    "function_name (arguments);\n",
    "\n",
    "Example:\n",
    "sum(3, 5);\n",
    "Here is how we can call the square function we defined before in our notes.\n",
    "    \n",
    "Example:\n",
    "square(5);\n",
    "25"
   ]
  },
  {
   "cell_type": "markdown",
   "id": "8cdd7013-5cb3-4e04-a4ed-dc8af4f9c81a",
   "metadata": {},
   "source": [
    "# Function Definitions and Calls\n",
    "***"
   ]
  },
  {
   "cell_type": "code",
   "execution_count": null,
   "id": "76f81abc-a84c-47db-8943-47adf411dc74",
   "metadata": {},
   "outputs": [],
   "source": [
    "We always utilize function definitions, calls, parameters, return and arguments together.\n",
    "Parameters, return statements and arguments are always optional. Below are some example\n",
    "are simple functions with their definitions and calls. Note that Jupyter Lab will print these\n",
    "functions by default. You must create print statements / variables to actually see\n",
    "results of your functions in regular JS."
   ]
  },
  {
   "cell_type": "code",
   "execution_count": null,
   "id": "1440f9df-8140-4699-b791-e2683db732b7",
   "metadata": {},
   "outputs": [],
   "source": [
    "Examples:\n",
    "function greet(name) {\n",
    "console.log(\"Hello there \" + name);\n",
    "}\n",
    "greet(\"Cooper\");\n",
    "Hello there Cooper\n",
    "function ageFinder(dateOfBirth, currentYear) {\n",
    "let age = currentYear - dateOfBirth;\n",
    "return age;\n",
    "}\n",
    "console.log(ageFinder(1990, 2023));\n",
    "33"
   ]
  },
  {
   "cell_type": "markdown",
   "id": "ab655919-1503-4d1e-9f4d-671c320d0954",
   "metadata": {},
   "source": [
    "# Returning vs. console.Log() in Functions\n",
    "***"
   ]
  },
  {
   "cell_type": "code",
   "execution_count": null,
   "id": "0cae334d-cb01-4f16-a9b7-950002ce8e3c",
   "metadata": {},
   "outputs": [],
   "source": [
    "Often when starting out we will only need to display the value of the result of the function.\n",
    "We can do this by simply logging the value to the console. However this is often not\n",
    "sufficient for programs. A printed value can only be used in the block, the problem will pop\n",
    "up when trying to use function values elsewhere. Lets take a look at this using a function\n",
    "below."
   ]
  },
  {
   "cell_type": "code",
   "execution_count": null,
   "id": "55f6a060-1a15-4a18-99f6-e59c1780b947",
   "metadata": {},
   "outputs": [],
   "source": [
    "Example:\n",
    "function printTen() {\n",
    "console.log(10);\n",
    "}\n",
    "let value = printTen();\n",
    "console.log(value * 2);\n",
    "\n",
    "10\n",
    "NaN"
   ]
  },
  {
   "cell_type": "code",
   "execution_count": null,
   "id": "1335fbb7-102b-4121-8592-6097a74d0389",
   "metadata": {},
   "outputs": [],
   "source": [
    "When we try to use the value from the function we will recieve an error, this is because the\n",
    "value is printed and not returned . If I wanted to use the value from the function\n",
    "elsewhere, then we run into problems. The way we can fix this is by returning values."
   ]
  },
  {
   "cell_type": "code",
   "execution_count": null,
   "id": "dae39e57-d4b1-4526-8075-2bf6b5cb93e2",
   "metadata": {},
   "outputs": [],
   "source": [
    "Example:\n",
    "function returnTen() {\n",
    "return 10;\n",
    "}\n",
    "returnTen();\n",
    "let returnedValue = returnTen();\n",
    "console.log(returnedValue * 2);\n",
    "20"
   ]
  },
  {
   "cell_type": "markdown",
   "id": "599dadf8-ad2c-4a99-b0e0-c7e164a8c88e",
   "metadata": {},
   "source": [
    "# Arrow Functions (A cleaner way of writing functions)\n",
    "***"
   ]
  },
  {
   "cell_type": "code",
   "execution_count": null,
   "id": "ad6e06ab-237d-40d0-b0d4-c956408c1b31",
   "metadata": {},
   "outputs": [],
   "source": [
    "An arrow function is a more concise and cleaner way to write functions."
   ]
  },
  {
   "cell_type": "code",
   "execution_count": null,
   "id": "be37cf95-e3b2-4cf3-9008-12e3e149eb82",
   "metadata": {},
   "outputs": [],
   "source": [
    "Example:\n",
    "const square = (number) => {\n",
    "return number * number;\n",
    "}"
   ]
  },
  {
   "cell_type": "code",
   "execution_count": null,
   "id": "71474aee-c3c0-46a9-ad53-2c11e803f50c",
   "metadata": {},
   "outputs": [],
   "source": [
    "1. The name of the function is preceded by a variable keyword (let or const), then choose a\n",
    "name.\n",
    "2. The parameters are listed in the parenthesis, if no parameters are needed you must\n",
    "include the parethesis still.\n",
    "3. Use an arrow => and open curly braces.\n",
    "4. Input code to execute in the block."
   ]
  }
 ],
 "metadata": {
  "kernelspec": {
   "display_name": "JavaScript (Node.js)",
   "language": "javascript",
   "name": "javascript"
  },
  "language_info": {
   "file_extension": ".js",
   "mimetype": "application/javascript",
   "name": "javascript",
   "version": "20.8.1"
  }
 },
 "nbformat": 4,
 "nbformat_minor": 5
}
