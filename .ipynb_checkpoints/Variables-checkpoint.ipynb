{
 "cells": [
  {
   "cell_type": "markdown",
   "id": "4eae2966-fb53-4d79-8767-4fae5c2d4373",
   "metadata": {},
   "source": [
    "# variables\n",
    "***"
   ]
  },
  {
   "cell_type": "code",
   "execution_count": null,
   "id": "80fa7ade-38ce-47b9-a9db-70bfe778bd69",
   "metadata": {},
   "outputs": [],
   "source": [
    "Documentation is located here.\n",
    "Variables: A container for storing values. A variable has a name and contains a value. You\n",
    "\"Store\" a variable in memory and it allows you to access, modify, and manipulate that value\n",
    "throughout your program. Variables allow us to write programs in a generic manner, allow\n",
    "us to modify data without needing to modify the code structure.\n",
    "You can store many different data types in variables: Strings, Ints, booleans, floats, doubles\n",
    "and more"
   ]
  },
  {
   "cell_type": "markdown",
   "id": "baa5f964-b06e-460b-87d6-dafa1de553d1",
   "metadata": {},
   "source": [
    "# Variable Declaration & Initialization\n",
    "***"
   ]
  },
  {
   "cell_type": "code",
   "execution_count": null,
   "id": "478d0b9d-f669-47b0-abda-da6b40f3abfd",
   "metadata": {},
   "outputs": [],
   "source": [
    "Variables can be declared & initialize at the same time or seperately, in order to utilize the\n",
    "variable, both must happen.\n",
    "Variable Declaration: This is the first step to creating a variable, it tells your program that\n",
    "we want to create a variable, in this step the variable has no value. Must declare with var, let\n",
    "or CONST keywords. Var is outdated, we do not use it, you will see it in legacy code as well\n",
    "as in code.org.\n",
    "Example:\n",
    "let age;\n",
    "var name;\n",
    "CONST birthday;\n",
    "Variable Initialization: This is where you give a variable a value for the first time. Variables\n",
    "must be declared before initializing.\n",
    "Example:\n",
    "age = 25;\n",
    "name = \"Cooper\";\n",
    "birthday = 2000;\n",
    "Variable Definition: Variables can be declared and initialized at the same time. We call this\n",
    "\"Variable Definition\".\n",
    "Example:\n",
    "let age = 20;\n",
    "var name = \"Cooper\";\n",
    "CONST birthday = 2002;\n",
    "\n",
    "The equals sign is known as the assignment operator in most programming langauges. You\n",
    "must use this to create variables."
   ]
  },
  {
   "cell_type": "markdown",
   "id": "20174ebc-47f2-4662-ab14-8f990b7826e9",
   "metadata": {},
   "source": [
    "# Naming Variables\n",
    "***"
   ]
  },
  {
   "cell_type": "code",
   "execution_count": null,
   "id": "ebdacba6-e2ae-4bdc-a965-b8ca9a605aaf",
   "metadata": {},
   "outputs": [],
   "source": [
    "Variable names are extremely important, naming conventions vary between languages, here\n",
    "are some tips:\n",
    "1. Use descriptive names, that match the purpose of the variable.\n",
    "2. Use CamelCase when writing multi-word variables (Javascript best practice)\n",
    "3. Avoid symbols, and \"reserved\" words, such as: let, for, if etc.\n",
    "Never put spaces in variables, a variable can never just be an integer\n",
    "Good Examples:\n",
    "let firstName = \"Thomas\";\n",
    "let numberOfLives = 9;\n",
    "CONST temp = 98;\n",
    "let messageOfTheDay = \"Hello there, welcome to CSP\";\n",
    "Bad Examples:\n",
    "let 2 = 9;\n",
    "let N!M@ = \"John\";\n",
    "let birthday month = \"December\";"
   ]
  },
  {
   "cell_type": "markdown",
   "id": "607a5f3a-0a23-4bc9-8c81-b5ca069a7f6a",
   "metadata": {},
   "source": [
    "# Using the console.log( ); method with Variables\n",
    "***"
   ]
  },
  {
   "cell_type": "code",
   "execution_count": null,
   "id": "ddc669ff-6381-4449-b8a9-b9755068b23f",
   "metadata": {},
   "outputs": [],
   "source": [
    "We can combine our previous knowlege of the console log method with variables to start to\n",
    "build actual programs.\n",
    "Lets start by defining a variable:\n",
    "let parentsAge = 36;\n",
    "Now lets print the age variable to the console. NOTE: In Jupyter we get the outut below our\n",
    "cell. If you want to see how this looks in a coding environment you can try this in VSCode.\n",
    "console.log(parentsAge);\n",
    "36\n",
    "\n",
    "10/25/23, 8:48 PM variables\n",
    "\n",
    "https://miniature-waddle-p546jrx9xrjfg94-8888.app.github.dev/lab/tree/variables.ipynb 3/5\n",
    "\n",
    "See above, when you run the cell (Shift + Enter) the output is not the variable name, but the\n",
    "information stored inside the variable. Below are more examples:\n",
    "let birthdayCakeFlavor = \"chocolate\";\n",
    "console.log(birthdayCakeFlavor);\n",
    "chocolate"
   ]
  },
  {
   "cell_type": "markdown",
   "id": "52200d76-4a29-43ad-ab04-b5a88fc9cba3",
   "metadata": {},
   "source": [
    "# Operators\n",
    "***"
   ]
  },
  {
   "cell_type": "code",
   "execution_count": null,
   "id": "74f5e047-cc6f-496d-a92d-f84bc391ccb8",
   "metadata": {},
   "outputs": [],
   "source": [
    "Operators are crucial for writing programming langauge. Operators are special symbols or\n",
    "keywords that can perform operations. Below are the most common types:\n",
    "Arithmetic Operators: Used to perform basic math.\n",
    "Example\n",
    "+ (Add)\n",
    "- (subtract)\n",
    "* (Multiply)\n",
    "/ (Divide)\n",
    "% (Modulo)\n",
    "Comparison Operators: Used to compare values.\n",
    "Example\n",
    "=== (equal)\n",
    "!= (Not Equal)\n",
    "< (Less Than)\n",
    "> (Greater Than)\n",
    "<= (less than or equal)\n",
    ">= (Greater than or equal)\n",
    "Logical Operators: Used to make decisions.\n",
    "Example\n",
    "&& (and)\n",
    "|| (or)\n",
    "! (Not)\n",
    "Assignment Operators: Used in variables to assign value.\n",
    "Example\n",
    "= (Assign)\n",
    "+= (Add and assign)\n",
    "-= (Subtract and assign)\n",
    "\n",
    "\n",
    "https://miniature-waddle-p546jrx9xrjfg94-8888.app.github.dev/lab/tree/variables.ipynb 4/5\n",
    "\n",
    "String Operators: Used to concetenate (combine) two strings.\n",
    "Example\n",
    "+ (Concatenate)"
   ]
  },
  {
   "cell_type": "markdown",
   "id": "cf32dd69-71d6-4af3-9f15-8fc9f96e376a",
   "metadata": {},
   "source": [
    "# Using Operators\n",
    "***"
   ]
  },
  {
   "cell_type": "code",
   "execution_count": null,
   "id": "4948352d-bbe2-43d7-a1a9-e3954bf70110",
   "metadata": {},
   "outputs": [],
   "source": [
    "Operators are simple to use within variables. They can be used outside of variables as well,\n",
    "but lets start by using them inside variables. We will use the same process as above, we will\n",
    "define a variable and then print to the console. However we will now utilize operpators to\n",
    "make more complex variables.\n",
    "let areaOfRectangle = 4 * 5;\n",
    "console.log(areaOfRectangle);\n",
    "20\n",
    "We can use the concatenation (and the '+' operator) to make better print statements in the\n",
    "console. Note the space between the colon and the last quotation mark:\n",
    "let areaOfSquare = 7 * 7;\n",
    "console.log('The area of a 7 inch square is: ' + areaOfSquare);\n",
    "The area of a 7 inch square is: 49\n",
    "You can concatenate words too, however lets examine what happens:\n",
    "let firstName = \"John\";\n",
    "let lastName = \"Doe\";\n",
    "console.log(\"His name is \" + firstName + lastName);\n",
    "His name is JohnDoe\n",
    "We are missing a space between first name and last name. We can fix this by adding a blank\n",
    "space, using an empty set of quotes, make sure you put a space between the quotes:\n",
    "console.log(\"His name is \" + firstName + \" \" + lastName);\n",
    "His name is John Doe\n",
    "We can also use operators on variables. For instance we will use the equality operator to see\n",
    "if the 2 variables below are equal. It will return true or false:\n",
    "let trainTicketValue = 5;\n",
    "let trainNumber = 4;\n",
    "\n",
    "https://miniature-waddle-p546jrx9xrjfg94-8888.app.github.dev/lab/tree/variables.ipynb 5/5\n",
    "\n",
    "console.log(trainTicketValue == trainNumber);\n",
    "false"
   ]
  },
  {
   "cell_type": "markdown",
   "id": "881c2a0d-914c-41af-b719-689796f4f643",
   "metadata": {},
   "source": [
    "# Changing Variable Assignments\n",
    "***"
   ]
  },
  {
   "cell_type": "code",
   "execution_count": null,
   "id": "d156a393-6192-4596-aced-fa2355de6410",
   "metadata": {},
   "outputs": [],
   "source": [
    "Variables defined with let and var can be changed. CONST variables cannot be changed. In\n",
    "the example below we set the variable to a value, then change it. Notice the output takes the\n",
    "last value. IT does not mean that the variable was not the initial value, you just are printing\n",
    "the last value because the program is executing in a procedural step by step manner. Notice\n",
    "that when we mutate the variable we dont use the declaration keyword again. NOTE: In\n",
    "Jupyter, mutating (changing) a variable name will print it out. This is NOT the case in other\n",
    "IDE's, you will only see output when logging to the console.\n",
    "let numOfCows = 10;\n",
    "numOfCows = 5;\n",
    "numOfCows = 10;\n",
    "10\n",
    "console.log(numOfCows);\n",
    "10\n",
    "let murderOfCrows = 5 + 5;\n",
    "murderOfCrows = 1000000 * 7;\n",
    "murderOfCrows = \"Im a crow\";\n",
    "'Im a crow'\n",
    "console.log(murderOfCrows);\n",
    "Im a crow"
   ]
  },
  {
   "cell_type": "markdown",
   "id": "2d9704fb-f492-43c0-b251-a121da3f7553",
   "metadata": {},
   "source": [
    "# Conditional Statements In Javascript\n",
    "***"
   ]
  },
  {
   "cell_type": "code",
   "execution_count": null,
   "id": "1f9931b8-0f4b-41ed-aaf8-8ffb1553e752",
   "metadata": {},
   "outputs": [],
   "source": [
    "Conditional Statements: Conditional statements, also known as control flow statements,\n",
    "allow a program to make decisions and execute different blocks of code based on whether a\n",
    "certain condition is true or false. These conditions are evaluated to boolean values, which are\n",
    "either true or false. . These conditions are usually expressions that compare values using\n",
    "comparison operators (e.g.,= ==, !=, <, >, <=, >=). The result of such expressions is a\n",
    "boolean value, indicating the truth or falsity of the condition. This, in turn, determines which\n",
    "block of code will be executeds."
   ]
  },
  {
   "cell_type": "markdown",
   "id": "3890328a-6341-4beb-94d5-9866790efc0c",
   "metadata": {},
   "source": [
    "# Truthy Vs. Falsy Values\n",
    "***"
   ]
  },
  {
   "cell_type": "code",
   "execution_count": null,
   "id": "7e9d8b16-cd0b-4739-afad-7b6119f6d2fc",
   "metadata": {},
   "outputs": [],
   "source": [
    "In JavaScript, values are not only categorized as true or false but also as \"truthy\" or \"falsy\".\n",
    "This distinction is important when evaluating conditions in conditional statements.\n",
    "Falsy Values:\n",
    "false: The keyword false.\n",
    "0: The number zero.\n",
    "\"\" (Empty String): A string with no characters.\n",
    "null: Represents no value or no object.\n",
    "undefined: Indicates that a variable has not been assigned a value.\n",
    "NaN: Stands for \"Not-a-Number\".\n",
    "Example:\n",
    "if (0) {\n",
    "console.log(\"This won't print, 0 is falsy\");\n",
    "} else {\n",
    "console.log(\"0 is falsy\");\n",
    "}\n",
    "if (null) {\n",
    "console.log(\"This won't print, null is falsy\");\n",
    "}\n",
    "0 is falsy\n",
    "Truthy Values:\n",
    "\n",
    "In [12]:\n",
    "\n",
    "Any value that is not falsy is considered truthy. This includes true, all numbers (other than 0),\n",
    "all strings (including those with whitespace), and all objects and arrays (even empty ones).\n",
    "if (42) {\n",
    "console.log(\"42 is truthy\");\n",
    "}\n",
    "if (\"Hello\") {\n",
    "console.log(\"Non-empty string is truthy\");\n",
    "}\n",
    "if (\" \") {\n",
    "console.log(\"Whitespace-only string is also truthy\");\n",
    "}\n",
    "if ([]) {\n",
    "console.log(\"An empty array is truthy\");\n",
    "}\n",
    "if ({}) {\n",
    "console.log(\"An empty object is truthy\");\n",
    "}\n",
    "42 is truthy\n",
    "Non-empty string is truthy\n",
    "Whitespace-only string is also truthy\n",
    "An empty array is truthy\n",
    "An empty object is truthy"
   ]
  },
  {
   "cell_type": "markdown",
   "id": "d9231d13-8a15-465f-b88a-06cb1305974b",
   "metadata": {},
   "source": [
    "# If..Else Statements\n",
    "***"
   ]
  },
  {
   "cell_type": "code",
   "execution_count": null,
   "id": "ff08f7c8-df80-4098-9ad2-aed0897d72b4",
   "metadata": {},
   "outputs": [],
   "source": [
    "An if..else statement will execute a statement if the specified condition is truthy. This is the\n",
    "most basic conditional statment, it gives your program a bit more flexibility and decision\n",
    "making. The steps to making a if statement are below:\n",
    "\n",
    "1. keyword if followed by paranthesis.\n",
    "2. A conditiona to test in paranthesis, usually using comparison operators.\n",
    "3. A set of curly braces, inside is the code that runs if true.\n",
    "4. The else keyword.\n",
    "5. Another set of curly braces, inside is the code that runs if false.\n",
    "Note: The else is optional. You can create just a basic if statement without an else if needed."
   ]
  },
  {
   "cell_type": "code",
   "execution_count": null,
   "id": "210da0ac-bd8e-4bcd-935a-c4f0982fe955",
   "metadata": {},
   "outputs": [],
   "source": [
    "Syntax:"
   ]
  },
  {
   "cell_type": "code",
   "execution_count": null,
   "id": "15994c23-b918-48a5-9c04-44589240f653",
   "metadata": {},
   "outputs": [],
   "source": [
    "if ('condition') {\n",
    "//Code here runs if the condition is true.\n",
    "}:\n",
    "\n",
    "//Code out here is OUTSIDE the if statement block of code. The if statement doenst\n",
    "Example:\n",
    "let myAge = 2;\n",
    "let yourAge = 2;\n",
    "if (myAge == yourAge){\n",
    "console.log(\"We are the same age\");\n",
    "}\n",
    "We are the same age"
   ]
  },
  {
   "cell_type": "code",
   "execution_count": null,
   "id": "9d58c86b-6ee1-4de8-bee8-976bd0e04dd0",
   "metadata": {},
   "outputs": [],
   "source": [
    "Syntax:"
   ]
  },
  {
   "cell_type": "code",
   "execution_count": null,
   "id": "74e8cbdd-e2de-42e4-a301-485c56ae4f0a",
   "metadata": {},
   "outputs": [],
   "source": [
    "if ('condition') {\n",
    "//Code here runs if the condition is true.\n",
    "} else {\n",
    "//If the condition is false, run different code here\n",
    "}\n",
    "Example:\n",
    "let numOfApples = 10;\n",
    "let numOfPeaches = 12;\n",
    "if (numOfApples > numOfPeaches) {\n",
    "console.log (\"You have more apples than peaches.\");\n",
    "} else {\n",
    "console.log (\"You have more peaches than apples.\");\n",
    "}\n",
    "You have more peaches than apples."
   ]
  },
  {
   "cell_type": "code",
   "execution_count": null,
   "id": "27f3cf88-cdab-4aba-8f0f-9b6c68161c81",
   "metadata": {},
   "outputs": [],
   "source": [
    "let shoppingDone = false;\n",
    "let childsAllowance;\n",
    "if (shoppingDone === true) {\n",
    "childsAllowance = 10;\n",
    "} else {\n",
    "childsAllowance = 5;\n",
    "}\n",
    "5"
   ]
  },
  {
   "cell_type": "markdown",
   "id": "b2b52f50-52d0-43ca-8282-c8373b4c323e",
   "metadata": {},
   "source": [
    "# Else If\n",
    "***"
   ]
  },
  {
   "cell_type": "code",
   "execution_count": null,
   "id": "fd43461e-ae10-4163-8aff-d98916053095",
   "metadata": {},
   "outputs": [],
   "source": [
    "The last example provided us with two choices, or outcomes — but what if we want more\n",
    "than two?\n",
    "In [2]: In [2]: In [1]: In [2]: Out[2]:\n",
    "\n",
    "There is a way to chain on extra choices/outcomes to your if...else — using else if .\n",
    "Each extra choice requires an additional block to put in between if () { } and else {\n",
    "} .\n",
    "You can have as many different options in a conditional statement using else if ."
   ]
  },
  {
   "cell_type": "code",
   "execution_count": null,
   "id": "0df97ce2-4976-4edb-b4a8-fe2e917dc96a",
   "metadata": {},
   "outputs": [],
   "source": [
    "Syntax:"
   ]
  },
  {
   "cell_type": "code",
   "execution_count": null,
   "id": "04d22dc7-d26b-4a86-a5c6-29c85e529dc9",
   "metadata": {},
   "outputs": [],
   "source": [
    "if ('checks condition 1') {\n",
    "//Code here runs if the condition is true.\n",
    "} else if ('checks condition 2') {\n",
    "//Code here runs if the condition1 is false and condition 2 is true.\n",
    "} else if ('checks condition 3'){\n",
    "//Code here runs if the conditional is false and conditional 3 is true.\n",
    "} else{\n",
    "//Code here runs if all conditionals above are false.\n",
    "}"
   ]
  },
  {
   "cell_type": "code",
   "execution_count": null,
   "id": "321f7421-c933-4e30-ba11-f7786425d262",
   "metadata": {},
   "outputs": [],
   "source": [
    "Example:"
   ]
  },
  {
   "cell_type": "code",
   "execution_count": null,
   "id": "fc128f44-2bfe-410e-96da-5f7014831250",
   "metadata": {},
   "outputs": [],
   "source": [
    "let tomsAge = 10;\n",
    "let sarahsAge = 12;\n",
    "let arisAge = 15;\n",
    "if (tomsAge == sarahsAge){\n",
    "console.log(\"Tom and Sarah are the same age\");\n",
    "} else if (tomsAge == arisAge){\n",
    "console.log(\"Tom and Ari are the same age\");\n",
    "} else{\n",
    "console.log(\"Tom is not the same age as anyone\")\n",
    "}"
   ]
  },
  {
   "cell_type": "markdown",
   "id": "0e134832-227d-4776-b81e-b285615ced0e",
   "metadata": {},
   "source": [
    "Tom is not the same age as anyone"
   ]
  },
  {
   "cell_type": "markdown",
   "id": "5aee78a7-f38b-4b60-b2bd-b4cf2ca97be3",
   "metadata": {},
   "source": [
    "# Combining Logical Operators with Conditionals\n",
    "***"
   ]
  },
  {
   "cell_type": "code",
   "execution_count": null,
   "id": "d537e788-b961-45b5-9739-a33e9e1a58aa",
   "metadata": {},
   "outputs": [],
   "source": [
    "Logical Operators: Used to make decisions.\n",
    "Example\n",
    "&& (and)\n",
    "|| (or)\n",
    "! (Not)\n",
    "We can combine logical operators with our conditional statements to make smarter\n",
    "programs.\n",
    "Example:"
   ]
  },
  {
   "cell_type": "code",
   "execution_count": null,
   "id": "ea4d02f9-646e-4e50-b510-a5769ea7c0ad",
   "metadata": {},
   "outputs": [],
   "source": [
    "let tomAge = 10;\n",
    "let sarahAge = 12;\n",
    "let ariAge = 15;\n",
    "if (tomsAge > 10 && sarahsAge > 10 && arisAge > 10) {\n",
    "console.log(\"All of them are older than 10\");\n",
    "} else if (tomsAge > 10 || sarahsAge > 10 || arisAge > 10) {\n",
    "console.log(\"At least one of them is older than 10\");\n",
    "} else {\n",
    "console.log(\"None of them are older than 10\");\n",
    "}"
   ]
  },
  {
   "cell_type": "code",
   "execution_count": null,
   "id": "b14ec792-31ca-4207-9fbf-8c360039165e",
   "metadata": {},
   "outputs": [],
   "source": [
    "# "
   ]
  }
 ],
 "metadata": {
  "kernelspec": {
   "display_name": "JavaScript (Node.js)",
   "language": "javascript",
   "name": "javascript"
  },
  "language_info": {
   "file_extension": ".js",
   "mimetype": "application/javascript",
   "name": "javascript",
   "version": "20.8.1"
  }
 },
 "nbformat": 4,
 "nbformat_minor": 5
}
