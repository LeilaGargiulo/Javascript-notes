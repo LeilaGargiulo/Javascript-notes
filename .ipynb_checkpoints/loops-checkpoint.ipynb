{
 "cells": [
  {
   "cell_type": "markdown",
   "id": "a450c820-43a5-4e6e-a3ad-502883aa82cf",
   "metadata": {},
   "source": [
    "# Loops in Javascript\n",
    "***"
   ]
  },
  {
   "cell_type": "markdown",
   "id": "00634254-5f37-47fb-82a8-7f599ab9c547",
   "metadata": {},
   "source": [
    "#### The Purpose of Loops"
   ]
  },
  {
   "cell_type": "markdown",
   "id": "16eb5aad-9701-48ac-92ea-bf86734f9cdb",
   "metadata": {},
   "source": [
    "Loops are fundamental constructs in programming used to automate repetitive tasks,\n",
    "thereby making code more efficient and less cluttered. They are particularly useful in various\n",
    "scenarios, such as processing lists or arrays, repeating actions, or handling user inputs. Loops\n",
    "typically utilize an iterator variable, which tracks the state or progress of the loop. This\n",
    "iterator is often integral to the condition that determines when the loop starts and stops. By\n",
    "evaluating this condition, the loop can execute its code block repeatedly until the specified\n",
    "condition is no longer met."
   ]
  },
  {
   "cell_type": "markdown",
   "id": "2e62f9b5-8e50-450f-bd3a-e5eb6e841589",
   "metadata": {},
   "source": [
    "Iterator variables can have any name, yet often are represented by the letter i or another\n",
    "short letter."
   ]
  },
  {
   "cell_type": "markdown",
   "id": "98c6bce2-009b-4879-8d83-53b858072c5e",
   "metadata": {},
   "source": [
    "Note that in loops we often have a condition to change or modify the condition."
   ]
  },
  {
   "cell_type": "markdown",
   "id": "13f9d187-6ae9-49d0-80ee-4871ca2076c6",
   "metadata": {},
   "source": [
    "Loops, like most logic in programming can be evaluating to True or False ."
   ]
  },
  {
   "cell_type": "markdown",
   "id": "4711632b-7574-45db-b315-d632fe13fdc4",
   "metadata": {},
   "source": [
    "## Types of Loops\n",
    "***"
   ]
  },
  {
   "cell_type": "markdown",
   "id": "e161d7cb-dfbb-4594-8737-e4f535e89bb2",
   "metadata": {},
   "source": [
    "#### While Loops"
   ]
  },
  {
   "cell_type": "markdown",
   "id": "36919290-c647-4f9f-8732-37e79b5b6e9a",
   "metadata": {},
   "source": [
    "A \"While\" Loop is used to repeat a specific block of code an unknown number of times, until\n",
    "a condition is met. For example, if we want to ask a user for a number between 1 and 10, we\n",
    "don't know how many times the user may enter a larger number, so we keep asking \"while\n",
    "the number is not between 1 and 10\". If we (or the computer) knows exactly how many times\n",
    "to execute a section of code (such as shuffling a deck of cards) we use a for loop."
   ]
  },
  {
   "cell_type": "code",
   "execution_count": 3,
   "id": "f5f4e4a7-ec2e-4a18-b980-c5c94b98660c",
   "metadata": {},
   "outputs": [
    {
     "name": "stdout",
     "output_type": "stream",
     "text": [
      "1 Silly looking dogs\n",
      "2 Silly looking dogs\n",
      "3 Silly looking dogs\n",
      "4 Silly looking dogs\n"
     ]
    },
    {
     "data": {
      "text/plain": [
       "4"
      ]
     },
     "execution_count": 3,
     "metadata": {},
     "output_type": "execute_result"
    }
   ],
   "source": [
    "// This loop just counts from 1 to 4 and prints out the loops iterator variable value \n",
    "let i = 1 \n",
    "while (i < 5){ \n",
    " console.log(i + \" Silly looking dogs\"); \n",
    " i++; \n",
    "} "
   ]
  },
  {
   "cell_type": "markdown",
   "id": "5e055c9d-7b7c-422a-a3a7-067e0360bcb4",
   "metadata": {},
   "source": [
    "Note: Please not the i++ which is incrementing the value of i . Without this this while\n",
    "loop would be stuck forever, since the condition is not being changed or satisfied."
   ]
  },
  {
   "cell_type": "code",
   "execution_count": 4,
   "id": "3980f090-3d94-46dd-8d12-cd3980684a63",
   "metadata": {},
   "outputs": [
    {
     "name": "stdout",
     "output_type": "stream",
     "text": [
      "10\n",
      "9\n",
      "8\n",
      "7\n",
      "6\n",
      "5\n",
      "4\n",
      "3\n",
      "2\n",
      "1\n"
     ]
    },
    {
     "data": {
      "text/plain": [
       "1"
      ]
     },
     "execution_count": 4,
     "metadata": {},
     "output_type": "execute_result"
    }
   ],
   "source": [
    "//Counts down from a number. The -- is decrementing the value as opposed to ++ which \n",
    "let count = 10; \n",
    "while(count > 0){ \n",
    " console.log(count); \n",
    " count--; \n",
    "} \n"
   ]
  },
  {
   "cell_type": "code",
   "execution_count": null,
   "id": "9bf99f9c-bfbb-4d03-8285-76f2e70af25e",
   "metadata": {},
   "outputs": [],
   "source": [
    "//Calculates the sum of a number from 1 to 10 \n",
    "let sum = 0; \n",
    "let number = 1; \n",
    "while (number <= 10) { \n",
    " sum += number; // same as sum = sum + number  \n",
    " number++; \n",
    "} \n",
    "console.log(\"Sum is:\", sum);"
   ]
  },
  {
   "cell_type": "markdown",
   "id": "07700053-5e27-4e2e-8fc0-a8cbc4340115",
   "metadata": {},
   "source": [
    "#### For Loops"
   ]
  },
  {
   "cell_type": "markdown",
   "id": "6c6af312-f055-4185-8173-0354cb2ed21b",
   "metadata": {},
   "source": [
    "A \"For\" Loop is used to repeat a specific block of code a known number of times. For example, if we want to check the grade of every student in the class, we loop from 1 to that number. When the number of times is not known before hand, we use a \"While\" loop. \n"
   ]
  },
  {
   "cell_type": "markdown",
   "id": "d4ef6f4f-95a1-4d9a-92e9-5dc03f7e1f6b",
   "metadata": {},
   "source": [
    "The for loop is used to repeat a section of code known number of times. Sometimes it is the computer that knows how many times, not you, but it is still known. Some examples: \n"
   ]
  },
  {
   "cell_type": "markdown",
   "id": "ac770ac8-bf69-460c-ab1a-d55a39ddbfdf",
   "metadata": {},
   "source": [
    "Unknown number of times:"
   ]
  },
  {
   "cell_type": "markdown",
   "id": "51ce236a-4d9c-4c34-b5f3-cf8a69cb5d2e",
   "metadata": {},
   "source": [
    "\"Ask the User to Guess a pre-determined number between 1 and 100\". You have no way of knowing how many guesses it will take. \n"
   ]
  },
  {
   "cell_type": "markdown",
   "id": "2056cf29-8726-4567-af51-c42a1f158caf",
   "metadata": {},
   "source": [
    "\"Randomly look in an array for a given value.\" You have no way of knowing how many tries it will take to find the actual value. \n"
   ]
  },
  {
   "cell_type": "markdown",
   "id": "a192555b-c1b4-482f-90dc-0c061f4233fb",
   "metadata": {},
   "source": [
    "Note: this is a made-up example, because you would never randomly look into an array to\n",
    "find a value. You would always start at the front of the array and look one element at a time\n",
    "until you found the item or got to the end of the array."
   ]
  },
  {
   "cell_type": "markdown",
   "id": "bd10843d-7f29-446f-bbd4-586247a6e480",
   "metadata": {},
   "source": [
    "Known number of times:"
   ]
  },
  {
   "cell_type": "markdown",
   "id": "d83709a5-3cc4-4729-bde6-6340a6ecd7dc",
   "metadata": {},
   "source": [
    "Compute the average grade of the class. While you (the programmer) might not know how\n",
    "many grades exist in the class, the computer will know. Usually this is accomplished by using\n",
    "the \"length\" function on an array."
   ]
  },
  {
   "cell_type": "markdown",
   "id": "9c088586-313b-48db-ae63-ca3feb7e2265",
   "metadata": {},
   "source": [
    "Print the odd numbers from 1 to 1001."
   ]
  },
  {
   "cell_type": "markdown",
   "id": "cda2215a-6703-4c3e-a137-aad598e1df8c",
   "metadata": {},
   "source": [
    "Search a list (array) of numbers for the biggest grade. Again, the computer \"knows\" how\n",
    "many grades there are, so a for loop is appropriate."
   ]
  },
  {
   "cell_type": "code",
   "execution_count": null,
   "id": "00edf53f-518c-4177-9054-35108d576cda",
   "metadata": {},
   "outputs": [],
   "source": [
    "//Prints out `i` 5 times. \n",
    "for(let i = 1; i <= 5; i++){ \n",
    " console.log(i); \n",
    "} "
   ]
  },
  {
   "cell_type": "markdown",
   "id": "62e11e3a-2cc4-466a-a821-1f342211f2e5",
   "metadata": {},
   "source": [
    "Note that this will run for as long as the condition is false, as dictated by the iterator variable. "
   ]
  },
  {
   "cell_type": "code",
   "execution_count": null,
   "id": "fd2e2e82-8eb3-45a7-b6f0-3e7aa5d50ceb",
   "metadata": {},
   "outputs": [],
   "source": [
    "//Iterates through a list to check if the specified element is in the list \n",
    "const fruits = [\"Apple\", \"Pear\", \"Cherry\", \"Date\"] \n",
    "for(let i = 0; i < fruits.length; i++){ \n",
    " if(fruits[i] === \"Pear\"){ \n",
    " console.log(\"Pear located in the list\"); \n",
    " } \n",
    "} "
   ]
  },
  {
   "cell_type": "markdown",
   "id": "9ce6d492-10d0-4977-9e9c-2ac9c2f7929c",
   "metadata": {},
   "source": [
    "Note that we can look at the length of the list using the .length() list method. This is an easy way of telling the computer you want the length of the list. We can also use it to see how many items are in the list. Lets look at another example below. \n"
   ]
  },
  {
   "cell_type": "code",
   "execution_count": null,
   "id": "c25509c7-f77f-401d-9d4a-3ea4cdfb1670",
   "metadata": {},
   "outputs": [],
   "source": [
    "let students = [\"Nicole\", \"Kye\", \"Leila\"]; \n",
    "console.log(students.length) "
   ]
  },
  {
   "cell_type": "code",
   "execution_count": null,
   "id": "ab5291e2-1010-463c-b78c-e31873fa32e4",
   "metadata": {},
   "outputs": [],
   "source": [
    "//Looks through a list of students and lists what number each student is. let studentList = [\"Nicole\", \"Kye\", \"Leila\"]; \n",
    "for(let i = 0; i < studentList.length; i++){ console.log(studentList[i] + \" is student number \" + (i + 1)); } "
   ]
  },
  {
   "cell_type": "code",
   "execution_count": null,
   "id": "8b410eff-8496-4c83-9813-493bd21092ca",
   "metadata": {},
   "outputs": [],
   "source": [
    "//Sums list items\n",
    "let numbers = [10, 20, 30, 40, 50];\n",
    "let sum = 0;\n",
    "for (let i = 0; i < numbers.length; i++) {\n",
    "sum += numbers[i];\n",
    "}\n",
    "console.log(\"Total Sum:\", sum);"
   ]
  },
  {
   "cell_type": "markdown",
   "id": "2c999ae6-003e-41a0-a316-f58f3e222ea2",
   "metadata": {},
   "source": [
    "### Commmon Mistakes"
   ]
  },
  {
   "cell_type": "markdown",
   "id": "515a8219-2d9d-47e2-8562-e335ec6b3d42",
   "metadata": {},
   "source": [
    "#### Infinite Loops "
   ]
  },
  {
   "cell_type": "markdown",
   "id": "8f7f26f6-03d9-44fc-8e33-9abcf7d075e1",
   "metadata": {},
   "source": [
    "Occur when the loop's exit condition is never met.\n",
    "Common in while and do...while loops if the condition for exiting the loop is not\n",
    "properly updated within the loop."
   ]
  },
  {
   "cell_type": "markdown",
   "id": "f54348d9-3873-45e9-a8f8-50e1696f5b1c",
   "metadata": {},
   "source": [
    "Example"
   ]
  },
  {
   "cell_type": "code",
   "execution_count": null,
   "id": "b3b21b8b-9339-4a31-8b69-e2718287f16d",
   "metadata": {},
   "outputs": [],
   "source": [
    "let x = 2; \n",
    "\n",
    "while(x < 5){\n",
    "console.log(\"I will print forever\");\n",
    "}"
   ]
  },
  {
   "cell_type": "markdown",
   "id": "a41aef6b-8a44-4f99-a620-d67b17a12d64",
   "metadata": {},
   "source": [
    "#### Off By One Errors"
   ]
  },
  {
   "cell_type": "markdown",
   "id": "343e36a5-0bb7-49b6-8eb1-c3921f236396",
   "metadata": {},
   "source": [
    "Incorrectly setting loop boundaries, causing one too many or too few iterations. \n"
   ]
  },
  {
   "cell_type": "code",
   "execution_count": null,
   "id": "55b9901c-a23d-4c2d-8ffc-c32f329fa070",
   "metadata": {},
   "outputs": [],
   "source": [
    "// Off-by-one error: iterates one extra time \n",
    "let array = [1, 2, 3, 4, 5]; \n",
    "for (let i = 0; i <= array.length; i++) { \n",
    " console.log(array[i]); \n",
    "} "
   ]
  },
  {
   "cell_type": "markdown",
   "id": "91fd9934-f98c-4093-a7d4-1264eb4fdf4f",
   "metadata": {},
   "source": [
    "#### Unintended Scope of Variables"
   ]
  },
  {
   "cell_type": "code",
   "execution_count": null,
   "id": "fe356e28-51ef-45a9-8abd-97b1e9bdf30b",
   "metadata": {},
   "outputs": [],
   "source": [
    "// Variable 'i' should be accessible outside the loop\n",
    "for (let i = 0; i < 5; i++) {\n",
    "// Loop logic\n",
    "}\n",
    "console.log(i); // Error: 'i' is not defined, it doesnt exist outside the loop."
   ]
  },
  {
   "cell_type": "markdown",
   "id": "101e60ea-4c31-4f70-9907-49fe23a6345a",
   "metadata": {},
   "source": [
    "#### Misunderstanding Loop Conditions"
   ]
  },
  {
   "cell_type": "markdown",
   "id": "7aa6be9f-591f-4c77-b094-ad464d31c3b3",
   "metadata": {},
   "source": [
    "This happens when you confuse assignment and comparison operators."
   ]
  },
  {
   "cell_type": "code",
   "execution_count": null,
   "id": "05a301cb-3c1e-4925-a06b-93a86fa26abd",
   "metadata": {},
   "outputs": [],
   "source": [
    "let i = 0;\n",
    "while (i = 5) { // Mistakenly using assignment '=' instead of '=='\n",
    "// Loop logic\n",
    "}"
   ]
  },
  {
   "cell_type": "markdown",
   "id": "94f36e30-7886-4d7b-812b-2bf31d4801cb",
   "metadata": {},
   "source": [
    "## Best Practices\n",
    "***"
   ]
  },
  {
   "cell_type": "markdown",
   "id": "b1267a8d-fcf7-4176-8275-3c2fedfe5509",
   "metadata": {},
   "source": [
    "#### Clearly Define Loop Conditions:"
   ]
  },
  {
   "cell_type": "markdown",
   "id": "cb609563-f031-4da9-a00b-a7bd6320a110",
   "metadata": {},
   "source": [
    "Ensure loop conditions are explicit to avoid infinite loops.\n",
    "Regularly update the condition within the loop as needed."
   ]
  },
  {
   "cell_type": "markdown",
   "id": "b2e1c8d7-83a2-46df-9e60-57aeb2489001",
   "metadata": {},
   "source": [
    "#### Use the Most Appropriate Loop Type:"
   ]
  },
  {
   "cell_type": "markdown",
   "id": "f194bf53-dcc6-4130-bbe4-5f8e27923629",
   "metadata": {},
   "source": [
    "Choose for loops for known iteration counts.\n",
    "Opt for while loops when the number of iterations is not predetermined\n",
    "Use do...while loops when the loop body must execute at least once."
   ]
  },
  {
   "cell_type": "markdown",
   "id": "d0175455-f20c-4be5-a4ee-460d38c976e7",
   "metadata": {},
   "source": [
    "#### Properly Initialize Loop Variables:"
   ]
  },
  {
   "cell_type": "markdown",
   "id": "7c49d75a-0d25-4263-b85f-4a165455e9cf",
   "metadata": {},
   "source": [
    "Declare and initialize all loop control variables clearly\n",
    "Consider the scope of these variables, especially in for loops."
   ]
  },
  {
   "cell_type": "markdown",
   "id": "5c081041-e99c-46dd-bbe3-d38331a0db18",
   "metadata": {},
   "source": [
    "#### Keep Loop Bodies Simple and Clear:"
   ]
  },
  {
   "cell_type": "markdown",
   "id": "a7d169f8-35dc-4d15-b3bd-53f9317268ce",
   "metadata": {},
   "source": [
    "Avoid overcomplicating the code inside loops.\n",
    "Strive for readability and maintainability."
   ]
  },
  {
   "cell_type": "markdown",
   "id": "6d7bff91-c606-4272-896c-f399de1bec80",
   "metadata": {},
   "source": [
    "#### Avoid \"Magic Numbers\":"
   ]
  },
  {
   "cell_type": "markdown",
   "id": "72b8710a-ff86-47a0-a710-5f8813cc21e9",
   "metadata": {},
   "source": [
    "Use named constants or variables instead of hard-coded numbers in loop conditions.\n",
    "This enhances the readability and adaptability of the code."
   ]
  },
  {
   "cell_type": "markdown",
   "id": "8185dcf4-cf92-42f0-86d2-aef0d4f5ed47",
   "metadata": {},
   "source": [
    "#### Comment and Document Complex Loops:"
   ]
  },
  {
   "cell_type": "markdown",
   "id": "e6797875-70a7-4841-809e-d96277b8d696",
   "metadata": {},
   "source": [
    "Provide clear comments for complex loop logic to aid understanding and future\n",
    "maintenance.\n",
    "Describe the purpose and functionality of the loop."
   ]
  },
  {
   "cell_type": "markdown",
   "id": "54b54642-55cb-4e23-98b9-6e5f3c387b18",
   "metadata": {},
   "source": [
    "#### Test Loops with Edge Cases:"
   ]
  },
  {
   "cell_type": "markdown",
   "id": "0dcbd08e-20ab-4fa4-a72c-b3c7ce9aec85",
   "metadata": {},
   "source": [
    "Ensure loops are tested with a variety of inputs, including boundary values and edge\n",
    "cases.\n",
    "This helps to confirm the loop behaves as expected in all scenarios."
   ]
  },
  {
   "cell_type": "markdown",
   "id": "54e64fbf-fbd4-4f68-973f-e5042fd35c22",
   "metadata": {},
   "source": [
    "#### Refactor and Optimize When Necessary:"
   ]
  },
  {
   "cell_type": "markdown",
   "id": "a494f5cd-858f-4165-b195-dacec05fedce",
   "metadata": {},
   "source": [
    "Revisit and refactor loop logic for efficiency and clarity.\n",
    "Consider alternative approaches if a loop seems overly complex or inefficient.Revisit and refactor loop logic for efficiency and clarity.\n",
    "Consider alternative approaches if a loop seems overly complex or inefficient."
   ]
  },
  {
   "cell_type": "code",
   "execution_count": null,
   "id": "bd630486-5683-4102-8b06-46ee7c9c3b2a",
   "metadata": {},
   "outputs": [],
   "source": []
  }
 ],
 "metadata": {
  "kernelspec": {
   "display_name": "JavaScript (Node.js)",
   "language": "javascript",
   "name": "javascript"
  },
  "language_info": {
   "file_extension": ".js",
   "mimetype": "application/javascript",
   "name": "javascript",
   "version": "20.8.1"
  }
 },
 "nbformat": 4,
 "nbformat_minor": 5
}
