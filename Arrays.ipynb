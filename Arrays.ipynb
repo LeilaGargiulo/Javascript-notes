{
 "cells": [
  {
   "cell_type": "markdown",
   "id": "f7b0bdf3-fe7b-4453-bdab-b618dd35e35c",
   "metadata": {},
   "source": [
    "# JavaScript Lists(Arrays)\n",
    "***"
   ]
  },
  {
   "cell_type": "markdown",
   "id": "1c6c7d25-8e46-4732-b742-f359d602afc3",
   "metadata": {},
   "source": [
    "JavaScript Lists: Commonly referred to as Arrays, are a way to store multiple values in a\n",
    "single variable. Arrays are incredibly useful for managing and manipulating sets of data."
   ]
  },
  {
   "cell_type": "markdown",
   "id": "c8f98056-8d81-4c49-bf8c-0ebffc38d2b4",
   "metadata": {},
   "source": [
    "# Creating and Initializing Arrays\n",
    "***"
   ]
  },
  {
   "cell_type": "markdown",
   "id": "31d48a05-065f-4914-96aa-08311f63d9a5",
   "metadata": {},
   "source": [
    "An array can hold a collection of items, which can be of various data types such as strings,\n",
    "numbers, booleans, and even other arrays or objects."
   ]
  },
  {
   "cell_type": "markdown",
   "id": "d7d75150-4a77-4818-aa38-02d3a17e927d",
   "metadata": {},
   "source": [
    "Syntax"
   ]
  },
  {
   "cell_type": "markdown",
   "id": "dd6e79a3-51ee-498b-9895-de76c45e2957",
   "metadata": {},
   "source": [
    "To create an array, you use square brackets []. You can initialize an array with items or start\n",
    "with an empty array."
   ]
  },
  {
   "cell_type": "code",
   "execution_count": 4,
   "id": "9bdfd32c-0b2b-43c6-a021-3ad9e79cc310",
   "metadata": {},
   "outputs": [],
   "source": [
    "// Initializing an empty array\n",
    "let fruits = [];\n",
    "// Initializing an array with items\n",
    "let colors = [\"red\", \"green\", \"blue\"];"
   ]
  },
  {
   "cell_type": "markdown",
   "id": "98e530d9-2af9-48a4-916d-4fd4686c3b71",
   "metadata": {},
   "source": [
    "# Accessing Array Elements\n",
    "***"
   ]
  },
  {
   "cell_type": "markdown",
   "id": "b7ce6c55-16e7-4bc3-94f4-991148a73cd3",
   "metadata": {},
   "source": [
    "Each item in an array has an index, starting from 0. You can access an element by using its\n",
    "index inside square brackets."
   ]
  },
  {
   "cell_type": "markdown",
   "id": "f9c6f0a4-63d4-4f08-a541-1164c0281b3e",
   "metadata": {},
   "source": [
    "IMPORTANT NOTE: THE AP CSP EXAM\n",
    "STARTS INDEXES AT 1 NOT 0, CONTRARY\n",
    "TO MANY PROGRAMMING LANGAUGES."
   ]
  },
  {
   "cell_type": "code",
   "execution_count": 6,
   "id": "588315ae-77c1-4455-b1e2-bb9919a8f58a",
   "metadata": {},
   "outputs": [
    {
     "name": "stdout",
     "output_type": "stream",
     "text": [
      "red\n"
     ]
    }
   ],
   "source": [
    "let firstColor = colors[0]; // Accessing the first item, \"red\"\n",
    "console.log(firstColor); // Output: \"red\""
   ]
  },
  {
   "cell_type": "markdown",
   "id": "5cd6ddb5-5312-4009-8ff6-778f0267f064",
   "metadata": {},
   "source": [
    "# Modifying Arrays\n",
    "***"
   ]
  },
  {
   "cell_type": "markdown",
   "id": "33e8ad03-9fbc-4fc9-834b-ab15f171739f",
   "metadata": {},
   "source": [
    "Arrays are mutable, meaning you can modify them after creation."
   ]
  },
  {
   "cell_type": "code",
   "execution_count": 7,
   "id": "2f404187-dcca-4b4c-8b4b-532d03328c22",
   "metadata": {},
   "outputs": [
    {
     "data": {
      "text/plain": [
       "4"
      ]
     },
     "execution_count": 7,
     "metadata": {},
     "output_type": "execute_result"
    }
   ],
   "source": [
    "// Changing an Element\n",
    "colors[1] = \"yellow\"; // Changing \"green\" to \"yellow\"\n",
    "// Adding a new element\n",
    "colors.push(\"purple\"); // Adding \"purple\" to the end"
   ]
  },
  {
   "cell_type": "markdown",
   "id": "866aace2-0ce1-45e7-a5c7-8d331e07699d",
   "metadata": {},
   "source": [
    "# Array Properties and Methods\n",
    "***"
   ]
  },
  {
   "cell_type": "markdown",
   "id": "7f7e039e-626f-459d-b218-3c8b9d2eb2de",
   "metadata": {},
   "source": [
    "Arrays come with various properties and methods for manipulation and inspection. We will mostly need the length property and a variety of methods listed below. \n"
   ]
  },
  {
   "cell_type": "markdown",
   "id": "9bc99585-e5e2-4676-8afd-324f007c7c52",
   "metadata": {},
   "source": [
    "Length Property"
   ]
  },
  {
   "cell_type": "markdown",
   "id": "38392ec6-ec6f-43d2-b579-63aa2d7f4223",
   "metadata": {},
   "source": [
    "The length property outputs the number of items in the array."
   ]
  },
  {
   "cell_type": "code",
   "execution_count": 10,
   "id": "64291d89-0d25-44df-9278-ede71039d048",
   "metadata": {},
   "outputs": [
    {
     "name": "stdout",
     "output_type": "stream",
     "text": [
      "4\n"
     ]
    }
   ],
   "source": [
    "console.log(colors.length); // Output: the number of elements in colors array"
   ]
  },
  {
   "cell_type": "markdown",
   "id": "ceaae648-3093-4837-8f7b-405dfc552679",
   "metadata": {},
   "source": [
    "Commmon Array Methods"
   ]
  },
  {
   "cell_type": "code",
   "execution_count": null,
   "id": "cb7d4b17-8ce5-4934-b3b1-f91d1f5d69fb",
   "metadata": {},
   "outputs": [],
   "source": [
    "// Adding an element to the end of the array \n",
    "array.push(element); \n",
    "// Removing the last element of the array \n",
    "array.pop(); \n",
    "// Adding an element to the beginning of the array \n",
    "array.unshift(element); \n",
    "// Removing the first element of the array \n",
    "array.shift(); \n",
    "// Finding the index of an element in the array \n",
    "let index = array.indexOf(element); \n",
    "// Removing elements from an array (starting index, number of elements to remove) array.splice(startIndex, deleteCount); \n",
    "// Adding elements to an array (starting index, number of elements to delete, eleme array.splice(startIndex, deleteCount, newElement1, newElement2, ...); \n",
    "// Creating a shallow copy of a part of an array (start index, end index)\n",
    "let newArray = array.slice(startIndex, endIndex);\n",
    "// Joining all elements of an array into a string (separator)\n",
    "let str = array.join(separator);\n",
    "// Reversing the elements in the array\n",
    "array.reverse();\n",
    "// Sorting the elements in the array\n",
    "array.sort();\n",
    "// Iterating over each element in the array\n",
    "array.forEach(function(element, index) {\n",
    "// Code to execute for each element\n",
    "});\n",
    "// Transforming elements in the array and creating a new array\n",
    "let newArray = array.map(function(element, index) {\n",
    "// Return new value for the element\n",
    "});\n",
    "// Filtering elements in the array based on a condition\n",
    "let filteredArray = array.filter(function(element, index) {\n",
    "// Return true to keep the element, false to filter it out\n",
    "});\n",
    "// Checking if any element in the array passes a test\n",
    "let result = array.some(function(element, index) {\n",
    "// Return true or false based on condition\n",
    "});\n",
    "// Checking if all elements in the array pass a test\n",
    "let allPass = array.every(function(element, index) {\n",
    "// Return true or false based on condition\n",
    "});\n",
    "// Reducing the array to a single value\n",
    "let result = array.reduce(function(accumulator, element, index) {\n",
    "// Return updated accumulator\n",
    "}, initialValue);\n",
    "// Finding the first element in the array that satisfies a condition\n",
    "let foundElement = array.find(function(element, index) {\n",
    "// Return true if this is the element you are looking for\n",
    "});\n",
    "// Finding the index of the first element in the array that satisfies a condition\n",
    "let foundIndex = array.findIndex(function(element, index) {\n",
    "// Return true if this is the element you are looking for\n",
    "});\n",
    "// Concatenating multiple arrays\n",
    "let newArray = array1.concat(array2, array3, ...);"
   ]
  },
  {
   "cell_type": "markdown",
   "id": "efb20c96-6bc9-49f1-8212-e9fd0092333f",
   "metadata": {},
   "source": [
    "# Looping Through Arrays\n",
    "***"
   ]
  },
  {
   "cell_type": "markdown",
   "id": "20c05544-c742-4392-8d1c-754a5eb754da",
   "metadata": {},
   "source": [
    "To iterate over an array, you can use loops like for , forEach , for...of ."
   ]
  },
  {
   "cell_type": "code",
   "execution_count": 16,
   "id": "eb7f51a3-3530-484b-ac6f-c8d1ae185152",
   "metadata": {},
   "outputs": [
    {
     "name": "stdout",
     "output_type": "stream",
     "text": [
      "red\n",
      "yellow\n",
      "blue\n",
      "purple\n",
      "red\n",
      "yellow\n",
      "blue\n",
      "purple\n"
     ]
    }
   ],
   "source": [
    "// Using For Each\n",
    "colors.forEach(function(color) {\n",
    "console.log(color);\n",
    "});\n",
    "// Using for...of\n",
    "for (let color of colors) {\n",
    "console.log(color);\n",
    "}\n"
   ]
  },
  {
   "cell_type": "markdown",
   "id": "acd0a0ae-e6ee-4039-8af9-88f5fdfca23d",
   "metadata": {},
   "source": [
    "# Multidimensional Arrays \n",
    "***"
   ]
  },
  {
   "cell_type": "code",
   "execution_count": 17,
   "id": "2ecd1039-95ca-4647-992e-2f1d6b237e62",
   "metadata": {},
   "outputs": [
    {
     "name": "stdout",
     "output_type": "stream",
     "text": [
      "6\n"
     ]
    }
   ],
   "source": [
    "let matrix = [ \n",
    " [1, 2, 3], \n",
    " [4, 5, 6], \n",
    " [7, 8, 9] \n",
    "];\n",
    "console.log(matrix[1][2]); // Accessing the third element of the second array "
   ]
  },
  {
   "cell_type": "markdown",
   "id": "2b9e6b81-4550-422c-90e5-36d3edb97318",
   "metadata": {},
   "source": [
    "# Use Cases \n",
    "***"
   ]
  },
  {
   "cell_type": "markdown",
   "id": "90176d0a-3269-4483-a390-275600cc98ba",
   "metadata": {},
   "source": [
    "Data Collection and Management: \n",
    "Arrays are ideal for collecting and managing sets of data, such as user inputs, records from a database, or any set of values. They provide a structured way to store and access this data."
   ]
  },
  {
   "cell_type": "markdown",
   "id": "f82ffb82-f319-4160-99c1-2728fee07507",
   "metadata": {},
   "source": [
    "Data Manipulation: You can perform various operations on arrays like sorting, filtering, and mapping to manipulate data. For instance, sorting user data based on criteria, filtering a list of products based on categories, or transforming data into a new format for presentation. \n"
   ]
  },
  {
   "cell_type": "markdown",
   "id": "cca6ac48-dc54-4073-af5a-60a04d3ff3d9",
   "metadata": {},
   "source": [
    "Mathematical Computations: Arrays can store numerical data and are useful in mathematical computations. You can use them for statistical analysis, such as calculating averages, sums, or other complex mathematical operations. \n"
   ]
  },
  {
   "cell_type": "markdown",
   "id": "991e14c9-9027-484a-9c10-be76885c1ba4",
   "metadata": {},
   "source": [
    "UI Components: In web development, arrays are often used to manage lists of UI elements. For example, displaying a list of items in a dropdown menu, a table of data, or a carousel of Arrays can contain other arrays, creating a multidimensional array image."
   ]
  },
  {
   "cell_type": "markdown",
   "id": "52866fd6-d978-43e5-89f4-f8918ba06824",
   "metadata": {},
   "source": [
    "Stacks and Queues Implementation: Arrays can be used to implement other data structures like stacks and queues. For example, using push and pop methods for stack operations, and shift and push for queue operations. "
   ]
  },
  {
   "cell_type": "markdown",
   "id": "7512d10c-0557-40e7-a6c7-fa79ffd2f5ee",
   "metadata": {},
   "source": [
    "Graphs and Trees Data Structure: Arrays can represent more complex data structures like graphs (as adjacency lists or matrices) and trees (like binary trees, where each element has references to its children). \n"
   ]
  },
  {
   "cell_type": "markdown",
   "id": "58b03a0c-4ad3-4f60-af20-70e277e6b510",
   "metadata": {},
   "source": [
    "Algorithms Implementation: Arrays are fundamental in implementing various algorithms, especially those involving sorting and searching. They are often the underlying data structure used to store data during these operations. "
   ]
  },
  {
   "cell_type": "markdown",
   "id": "b24f1884-43b4-47e5-ae0e-74a060362582",
   "metadata": {},
   "source": [
    "Combining and Splitting Data: Using methods like concat, slice, and splice, arrays can be easily combined, partitioned, or reordered, which is useful in many applications like data processing or handling user-generated content. "
   ]
  },
  {
   "cell_type": "markdown",
   "id": "22c56a43-8c26-4624-9485-4a2551e1c693",
   "metadata": {},
   "source": [
    "Temporary Storage: Arrays are useful as a temporary storage mechanism when processing or manipulating data. For example, storing the results of intermediate steps in a complex calculation or algorithm. "
   ]
  },
  {
   "cell_type": "markdown",
   "id": "c825ed36-5bf9-4f6a-96e8-ec4549f7e60b",
   "metadata": {},
   "source": [
    "Multi-Dimensional Data: Arrays can store multi-dimensional data, making them useful for scenarios like representing matrices in mathematical computations, pixel data in images, or multi-dimensional maps in games or simulations. "
   ]
  },
  {
   "cell_type": "markdown",
   "id": "649bfb07-daca-4db3-b5e6-9ceb1c0077b3",
   "metadata": {},
   "source": [
    "Functional Programming: Arrays in JavaScript work well with functional programming concepts, using methods like map, filter, reduce, which allow for operations on arrays without mutating them. \n"
   ]
  },
  {
   "cell_type": "markdown",
   "id": "c27a8bd7-e910-4af9-8413-1d729252c8d8",
   "metadata": {},
   "source": [
    "Batch Operations: Performing operations on multiple items at once, like updating a set of records or applying a function across multiple elements. "
   ]
  },
  {
   "cell_type": "code",
   "execution_count": null,
   "id": "81b9b357-03c2-426a-8e1b-81388ed947d9",
   "metadata": {},
   "outputs": [],
   "source": []
  }
 ],
 "metadata": {
  "kernelspec": {
   "display_name": "JavaScript (Node.js)",
   "language": "javascript",
   "name": "javascript"
  },
  "language_info": {
   "file_extension": ".js",
   "mimetype": "application/javascript",
   "name": "javascript",
   "version": "20.8.1"
  }
 },
 "nbformat": 4,
 "nbformat_minor": 5
}
